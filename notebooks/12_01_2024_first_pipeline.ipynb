{
 "cells": [
  {
   "cell_type": "code",
   "execution_count": 3,
   "metadata": {},
   "outputs": [],
   "source": [
    "# Imports\n",
    "import logging\n",
    "\n",
    "import matplotlib.pyplot as plt\n",
    "import rasterio\n",
    "from rasterio.windows import from_bounds\n",
    "import pathlib\n",
    "from pathlib import Path\n",
    "from PIL import Image\n",
    "import numpy as np\n",
    "from pyproj import Transformer\n",
    "import re\n",
    "\n",
    "from typing import Dict, List"
   ]
  },
  {
   "cell_type": "code",
   "execution_count": 4,
   "metadata": {},
   "outputs": [],
   "source": [
    "DATASET_DIRECTORY = \"/Users/ksafiullin/src/geospatial-data-processing/data/orthophotos/nw\""
   ]
  },
  {
   "cell_type": "code",
   "execution_count": 5,
   "metadata": {},
   "outputs": [],
   "source": [
    "log = logging.getLogger(__name__)\n",
    "logging.basicConfig(format=\"[%(asctime)s] [%(levelname)s] %(message)s\", level=logging.DEBUG)"
   ]
  },
  {
   "cell_type": "code",
   "execution_count": 6,
   "metadata": {},
   "outputs": [],
   "source": [
    "def validate_input(latitude: float, longitude: float, radius: float = 100) -> None:\n",
    "    logging.info(\n",
    "        f\"Incoming latitude '{latitude}' and longitude '{longitude}' with set radius '{radius}'.\"\n",
    "    )\n",
    "\n",
    "    if not -90 < latitude < 90 and not -180 < longitude < 180:\n",
    "        error_message = (\n",
    "            \"Programm works with `EPSG:25832`. Looks like provided input data is in\"\n",
    "            \"Geographic CRS (`EPSG:4326`). If it's not the case, ignore the warning!\"\n",
    "        )\n",
    "        log.error(error_message)\n",
    "        raise ValueError(error_message)\n",
    "\n",
    "    if radius < 0 or radius > 100:\n",
    "        log.warning(\n",
    "            f\"Radius expected to be from 0 meters till 100 meters. Received {radius} meters.\"\n",
    "        )"
   ]
  },
  {
   "cell_type": "code",
   "execution_count": 7,
   "metadata": {},
   "outputs": [],
   "source": [
    "def parse_tile_metadata(image_filepath: pathlib.Path) -> Dict[str,int]:\n",
    "    \"\"\"Extract the tile's bounding box in EPSG:25832 from provided dataset sample of .jp2 files.\"\"\"\n",
    "    pattern = r\"dop10rgbi_32_(\\d+)_(\\d+)_1_nw_\\d{4}\\.jp2\"\n",
    "    match = re.match(pattern, image_filepath.name)\n",
    "    if not match:\n",
    "        raise ValueError(\n",
    "            f\"Incorrect filepath. Got {image_filepath},\"\n",
    "            \"expected 'dop10rgbi_32_<easting>_<northing>_1_nw_<year>.jp2'\"\n",
    "        )\n",
    "    \n",
    "    x_km = int(match.group(1))\n",
    "    y_km = int(match.group(2))\n",
    "    \n",
    "    x_min = x_km * 1000\n",
    "    x_max = x_min + 999\n",
    "    y_min = y_km * 1000\n",
    "    y_max = y_min + 999\n",
    "\n",
    "    return {\n",
    "        \"x_min\": x_min,\n",
    "        \"x_max\": x_max,\n",
    "        \"y_min\": y_min,\n",
    "        \"y_max\": y_max\n",
    "    }"
   ]
  },
  {
   "cell_type": "code",
   "execution_count": 95,
   "metadata": {},
   "outputs": [
    {
     "name": "stderr",
     "output_type": "stream",
     "text": [
      "[2025-01-12 18:52:47,182] [DEBUG] tile_bbox (468000, 5772000, 468999, 5772999)\n"
     ]
    },
    {
     "data": {
      "text/plain": [
       "False"
      ]
     },
     "execution_count": 95,
     "metadata": {},
     "output_type": "execute_result"
    }
   ],
   "source": [
    "# [2025-01-12 18:48:43,402] [DEBUG] tile_bbox (468000, 5772000, 468999, 5772999)\n",
    "# [2025-01-12 18:48:43,388] [DEBUG] query bbox: (5772399.999999996, 468399.99999999336, 5772599.999999996, 468599.99999999336)\n",
    "\n",
    "def is_bbox_intersects(tile_bbox, query_bbox) -> bool:\n",
    "    \"\"\"Return boolean if tile image and final generated image overlap or not.\"\"\"\n",
    "    (title_bbox_left, title_bbox_bottom, title_box_right, title_box_top) = tile_bbox\n",
    "    (query_bbox_left, query_bbox_bottom, query_bbox_right, query_bbox_top) = query_bbox\n",
    "    \n",
    "    log.debug(f\"tile_bbox {tile_bbox}\")\n",
    "    if title_box_right < query_bbox_left or title_bbox_left > query_bbox_right:\n",
    "        return False\n",
    "    if title_box_top < query_bbox_bottom or title_bbox_bottom > query_bbox_top:\n",
    "        return False\n",
    "    \n",
    "    return True\n",
    "\n",
    "# is_bbox_intersects(\n",
    "#     tile_bbox=(468000, 5772000, 468999, 5772999),\n",
    "#     query_bbox=(5772399.999999996, 468399.99999999336, 5772599.999999996, 468599.99999999336)\n",
    "# )"
   ]
  },
  {
   "cell_type": "code",
   "execution_count": null,
   "metadata": {},
   "outputs": [],
   "source": [
    "def get_paths_of_required_images(\n",
    "    x_left: float,\n",
    "    y_bottom: float,\n",
    "    x_right: float,\n",
    "    y_top: float,\n",
    "    dataset_directory_full_path: pathlib.Path,\n",
    ") -> List[pathlib.Path]:\n",
    "    query_bbox = (x_left, y_bottom, x_right, y_top)\n",
    "    log.debug(f\"query bbox: {query_bbox}\")\n",
    "    relevant_tiles = []\n",
    "    for jp2_file in dataset_directory_full_path.glob(\"*.jp2\"):\n",
    "        meta = parse_tile_metadata(jp2_file)\n",
    "        if not meta:\n",
    "            error_message = \"Something goes wrong with parsing image\"\n",
    "            log.error(error_message)\n",
    "            raise Exception(error_message)\n",
    "\n",
    "        tile_bbox = (meta[\"x_min\"], meta[\"y_min\"], meta[\"x_max\"], meta[\"y_max\"])\n",
    "        log.debug(f\"tile_bbox {tile_bbox}\")\n",
    "        if is_bbox_intersects(tile_bbox, query_bbox):\n",
    "            relevant_tiles.append(meta[\"file_path\"])\n",
    "        break\n",
    "\n",
    "    logging.info(f\"Found {len(relevant_tiles)} tile(s) intersecting the query area.\")\n",
    "    return relevant_tiles"
   ]
  },
  {
   "cell_type": "code",
   "execution_count": null,
   "metadata": {},
   "outputs": [],
   "source": [
    "wgs84_to_utm32 = Transformer.from_crs(\"EPSG:4326\", \"EPSG:25832\", always_xy=True)\n",
    "\n",
    "def get_image(latitude: float, longitude: float, radius: float = 100, dataset_directory: str = \"\") -> Image.Image:\n",
    "    \"\"\"Generate a 256x256 pixels Image for the input (latitude, longitude) in EPSG:4326,\n",
    "    with a given radius in meters.\n",
    "\n",
    "    - 'latitude' and 'longitude' must be in 'EPSG:4326' format.\n",
    "    - 'radius' value expected to be '0' till '100' meters.\n",
    "    - 'dataset_directory' - orthophotos directory full path e.g. ''\n",
    "\n",
    "    Steps:\n",
    "      1) Verify incoming data is on EPSG:4326 format.\n",
    "      2) Compute bounding box: (left, bottom, right, top).\n",
    "      3) Find all relevant tiles that intersect with this bounding box.\n",
    "      4) Partially read from each tile.\n",
    "      5) Concatenate the partial reads into one final image.\n",
    "      6) Crop/resize to 256x256.\n",
    "    \"\"\"\n",
    "    validate_input(latitude=latitude, longitude=longitude, radius=radius)\n",
    "\n",
    "    log.info(\n",
    "        \"Converting latitude and longitude from 'EPSG:4326' to 'EPSG:25832' format.\"\n",
    "    )\n",
    "    x_meters, y_meters = wgs84_to_utm32.transform(xx=latitude, yy=longitude)\n",
    "    log.debug(\n",
    "        f\"Converting latitude {latitude} -> to x_meters {x_meters}. Longitude {longitude}' degree -> to ty_meters {y_meters} \"\n",
    "    )\n",
    "    left = x_meters - radius\n",
    "    bottom = y_meters - radius\n",
    "    right = x_meters + radius\n",
    "    top = y_meters + radius\n",
    "    dataset_directory = Path(DATASET_DIRECTORY) if not dataset_directory else Path(dataset_directory)\n",
    "\n",
    "    log.debug(f\"dataset_directory {dataset_directory}, left {left}, bottom {bottom}, right {right},top {top} \")\n",
    "    image_tile_paths = get_paths_of_required_images(left, bottom, right, top, dataset_directory)\n",
    "    #TODO: consider case where it's end of dataset and I need to add black images.\n",
    "\n",
    "    print(image_tile_paths)\n",
    "    # for image_tile in image_tile_paths:\n",
    "    #     ...\n",
    "        "
   ]
  },
  {
   "cell_type": "code",
   "execution_count": 105,
   "metadata": {},
   "outputs": [],
   "source": [
    "# There is no Munster in sample dataset. Most probably compaby will test it on their dataset. Well lets try another data then.\n",
    "# get_image(51.962291, 7.626426, 100) "
   ]
  },
  {
   "cell_type": "code",
   "execution_count": 122,
   "metadata": {},
   "outputs": [
    {
     "name": "stderr",
     "output_type": "stream",
     "text": [
      "[2025-01-12 23:20:32,170] [DEBUG] Convert EPSG:25832 to EPSG:4326 \n",
      " Easting X meters -> to  latitude X 8.54010563577907 degree \n",
      " Northing Y  meters -> longitude Y 52.10215462837978 degrees to test on the sample\n"
     ]
    }
   ],
   "source": [
    "# Lets covert back EPSG:25832 to EPSG:4326 to test my code =)\n",
    "# I will pick `dop10rgbi_32_468_5772_1_nw_2022.jp2` middle aka 5772500, 468500\n",
    "\n",
    "t = Transformer.from_crs(\"EPSG:25832\", \"EPSG:4326\", always_xy=True)\n",
    "latitude, longitude,   = t.transform(xx=468500, yy=5772500)\n",
    "\n",
    "log.debug(\n",
    "    f\"Convert EPSG:25832 to EPSG:4326 \\n Easting X meters -> to  latitude X {latitude} degree \\n\"\n",
    "    f\" Northing Y  meters -> longitude Y {longitude} degrees to test on the sample\"\n",
    ")\n"
   ]
  },
  {
   "cell_type": "code",
   "execution_count": 120,
   "metadata": {},
   "outputs": [
    {
     "name": "stderr",
     "output_type": "stream",
     "text": [
      "[2025-01-12 19:06:58,236] [INFO] Incoming latitude '51.96' and longitude '7.62' with set radius '100'.\n",
      "[2025-01-12 19:06:58,237] [INFO] Converting latitude and longitude from 'EPSG:4326' to 'EPSG:25832' format.\n",
      "[2025-01-12 19:06:58,238] [DEBUG] Converting latitude 51.96 -> to x_meters 405180.02992657083. Longitude 7.62' degree -> to ty_meters 5757488.725332315 \n",
      "[2025-01-12 19:06:58,238] [DEBUG] dataset_directory /Users/ksafiullin/src/geospatial-data-processing/data/orthophotos/nw, left 405080.02992657083, bottom 5757388.725332315, right 405280.02992657083,top 5757588.725332315 \n",
      "[2025-01-12 19:06:58,238] [DEBUG] query bbox: (405080.02992657083, 5757388.725332315, 405280.02992657083, 5757588.725332315)\n",
      "[2025-01-12 19:06:58,239] [DEBUG] tile_bbox (463000, 5773000, 463999, 5773999)\n",
      "[2025-01-12 19:06:58,240] [DEBUG] tile_bbox (462000, 5772000, 462999, 5772999)\n",
      "[2025-01-12 19:06:58,240] [DEBUG] tile_bbox (467000, 5768000, 467999, 5768999)\n",
      "[2025-01-12 19:06:58,240] [DEBUG] tile_bbox (466000, 5769000, 466999, 5769999)\n",
      "[2025-01-12 19:06:58,241] [DEBUG] tile_bbox (464000, 5768000, 464999, 5768999)\n",
      "[2025-01-12 19:06:58,241] [DEBUG] tile_bbox (463000, 5770000, 463999, 5770999)\n",
      "[2025-01-12 19:06:58,243] [DEBUG] tile_bbox (463000, 5767000, 463999, 5767999)\n",
      "[2025-01-12 19:06:58,243] [DEBUG] tile_bbox (469000, 5768000, 469999, 5768999)\n",
      "[2025-01-12 19:06:58,243] [DEBUG] tile_bbox (462000, 5766000, 462999, 5766999)\n",
      "[2025-01-12 19:06:58,244] [DEBUG] tile_bbox (468000, 5769000, 468999, 5769999)\n",
      "[2025-01-12 19:06:58,244] [DEBUG] tile_bbox (462000, 5771000, 462999, 5771999)\n",
      "[2025-01-12 19:06:58,244] [DEBUG] tile_bbox (465000, 5769000, 465999, 5769999)\n",
      "[2025-01-12 19:06:58,245] [DEBUG] tile_bbox (464000, 5766000, 464999, 5766999)\n",
      "[2025-01-12 19:06:58,245] [DEBUG] tile_bbox (469000, 5771000, 469999, 5771999)\n",
      "[2025-01-12 19:06:58,245] [DEBUG] tile_bbox (469000, 5766000, 469999, 5766999)\n",
      "[2025-01-12 19:06:58,246] [DEBUG] tile_bbox (463000, 5769000, 463999, 5769999)\n",
      "[2025-01-12 19:06:58,246] [DEBUG] tile_bbox (464000, 5771000, 464999, 5771999)\n",
      "[2025-01-12 19:06:58,246] [DEBUG] tile_bbox (465000, 5770000, 465999, 5770999)\n",
      "[2025-01-12 19:06:58,247] [DEBUG] tile_bbox (468000, 5767000, 468999, 5767999)\n",
      "[2025-01-12 19:06:58,247] [DEBUG] tile_bbox (462000, 5768000, 462999, 5768999)\n",
      "[2025-01-12 19:06:58,247] [DEBUG] tile_bbox (468000, 5770000, 468999, 5770999)\n",
      "[2025-01-12 19:06:58,247] [DEBUG] tile_bbox (465000, 5767000, 465999, 5767999)\n",
      "[2025-01-12 19:06:58,248] [DEBUG] tile_bbox (467000, 5772000, 467999, 5772999)\n",
      "[2025-01-12 19:06:58,248] [DEBUG] tile_bbox (466000, 5773000, 466999, 5773999)\n",
      "[2025-01-12 19:06:58,248] [DEBUG] tile_bbox (464000, 5772000, 464999, 5772999)\n",
      "[2025-01-12 19:06:58,248] [DEBUG] tile_bbox (469000, 5772000, 469999, 5772999)\n",
      "[2025-01-12 19:06:58,249] [DEBUG] tile_bbox (468000, 5773000, 468999, 5773999)\n",
      "[2025-01-12 19:06:58,249] [DEBUG] tile_bbox (465000, 5773000, 465999, 5773999)\n",
      "[2025-01-12 19:06:58,249] [DEBUG] tile_bbox (467000, 5771000, 467999, 5771999)\n",
      "[2025-01-12 19:06:58,249] [DEBUG] tile_bbox (467000, 5766000, 467999, 5766999)\n",
      "[2025-01-12 19:06:58,250] [DEBUG] tile_bbox (466000, 5767000, 466999, 5767999)\n",
      "[2025-01-12 19:06:58,250] [DEBUG] tile_bbox (466000, 5770000, 466999, 5770999)\n",
      "[2025-01-12 19:06:58,251] [DEBUG] tile_bbox (466000, 5771000, 466999, 5771999)\n",
      "[2025-01-12 19:06:58,251] [DEBUG] tile_bbox (466000, 5766000, 466999, 5766999)\n",
      "[2025-01-12 19:06:58,252] [DEBUG] tile_bbox (467000, 5767000, 467999, 5767999)\n",
      "[2025-01-12 19:06:58,252] [DEBUG] tile_bbox (467000, 5770000, 467999, 5770999)\n",
      "[2025-01-12 19:06:58,253] [DEBUG] tile_bbox (465000, 5772000, 465999, 5772999)\n",
      "[2025-01-12 19:06:58,253] [DEBUG] tile_bbox (468000, 5772000, 468999, 5772999)\n",
      "[2025-01-12 19:06:58,253] [DEBUG] tile_bbox (469000, 5773000, 469999, 5773999)\n",
      "[2025-01-12 19:06:58,254] [DEBUG] tile_bbox (464000, 5773000, 464999, 5773999)\n",
      "[2025-01-12 19:06:58,254] [DEBUG] tile_bbox (466000, 5772000, 466999, 5772999)\n",
      "[2025-01-12 19:06:58,254] [DEBUG] tile_bbox (467000, 5773000, 467999, 5773999)\n",
      "[2025-01-12 19:06:58,254] [DEBUG] tile_bbox (468000, 5771000, 468999, 5771999)\n",
      "[2025-01-12 19:06:58,255] [DEBUG] tile_bbox (465000, 5766000, 465999, 5766999)\n",
      "[2025-01-12 19:06:58,255] [DEBUG] tile_bbox (465000, 5771000, 465999, 5771999)\n",
      "[2025-01-12 19:06:58,255] [DEBUG] tile_bbox (468000, 5766000, 468999, 5766999)\n",
      "[2025-01-12 19:06:58,255] [DEBUG] tile_bbox (462000, 5769000, 462999, 5769999)\n",
      "[2025-01-12 19:06:58,255] [DEBUG] tile_bbox (469000, 5767000, 469999, 5767999)\n",
      "[2025-01-12 19:06:58,256] [DEBUG] tile_bbox (463000, 5768000, 463999, 5768999)\n",
      "[2025-01-12 19:06:58,256] [DEBUG] tile_bbox (464000, 5770000, 464999, 5770999)\n",
      "[2025-01-12 19:06:58,256] [DEBUG] tile_bbox (464000, 5767000, 464999, 5767999)\n",
      "[2025-01-12 19:06:58,257] [DEBUG] tile_bbox (469000, 5770000, 469999, 5770999)\n",
      "[2025-01-12 19:06:58,257] [DEBUG] tile_bbox (462000, 5770000, 462999, 5770999)\n",
      "[2025-01-12 19:06:58,257] [DEBUG] tile_bbox (465000, 5768000, 465999, 5768999)\n",
      "[2025-01-12 19:06:58,257] [DEBUG] tile_bbox (462000, 5767000, 462999, 5767999)\n",
      "[2025-01-12 19:06:58,258] [DEBUG] tile_bbox (468000, 5768000, 468999, 5768999)\n",
      "[2025-01-12 19:06:58,258] [DEBUG] tile_bbox (463000, 5766000, 463999, 5766999)\n",
      "[2025-01-12 19:06:58,258] [DEBUG] tile_bbox (469000, 5769000, 469999, 5769999)\n",
      "[2025-01-12 19:06:58,259] [DEBUG] tile_bbox (464000, 5769000, 464999, 5769999)\n",
      "[2025-01-12 19:06:58,259] [DEBUG] tile_bbox (463000, 5771000, 463999, 5771999)\n",
      "[2025-01-12 19:06:58,259] [DEBUG] tile_bbox (466000, 5768000, 466999, 5768999)\n",
      "[2025-01-12 19:06:58,260] [DEBUG] tile_bbox (467000, 5769000, 467999, 5769999)\n",
      "[2025-01-12 19:06:58,260] [DEBUG] tile_bbox (462000, 5773000, 462999, 5773999)\n",
      "[2025-01-12 19:06:58,260] [DEBUG] tile_bbox (463000, 5772000, 463999, 5772999)\n",
      "[2025-01-12 19:06:58,260] [INFO] Found 0 tile(s) intersecting the query area.\n"
     ]
    },
    {
     "name": "stdout",
     "output_type": "stream",
     "text": [
      "[]\n"
     ]
    }
   ],
   "source": [
    "# get_image(longitude=longitude, latitude=latitude, radius=100)\n",
    "get_image(latitude=51.96, longitude=7.62, radius=100)"
   ]
  },
  {
   "cell_type": "code",
   "execution_count": null,
   "metadata": {},
   "outputs": [],
   "source": []
  }
 ],
 "metadata": {
  "kernelspec": {
   "display_name": "geospatial-data-processing-ovVQaCv9-py3.13",
   "language": "python",
   "name": "python3"
  },
  "language_info": {
   "codemirror_mode": {
    "name": "ipython",
    "version": 3
   },
   "file_extension": ".py",
   "mimetype": "text/x-python",
   "name": "python",
   "nbconvert_exporter": "python",
   "pygments_lexer": "ipython3",
   "version": "3.13.1"
  }
 },
 "nbformat": 4,
 "nbformat_minor": 2
}
