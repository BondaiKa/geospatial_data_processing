{
 "cells": [
  {
   "cell_type": "code",
   "execution_count": null,
   "metadata": {},
   "outputs": [],
   "source": [
    "# Imports\n",
    "import logging\n",
    "\n",
    "import matplotlib.pyplot as plt\n",
    "import rasterio\n",
    "from rasterio.windows import from_bounds\n",
    "import pathlib\n",
    "from pathlib import Path\n",
    "from PIL import Image\n",
    "import numpy as np\n",
    "from pyproj import Transformer\n"
   ]
  },
  {
   "cell_type": "code",
   "execution_count": null,
   "metadata": {},
   "outputs": [],
   "source": [
    "wgs84_to_utm32 = Transformer.from_crs(\"EPSG:4326\", \"EPSG:25832\", always_xy=True)\n",
    "\n",
    "\n",
    "def validate_input(latitude: float, longitude: float, radius: float = 100) -> None:\n",
    "    logging.info(\n",
    "        f\"Incoming latitude '{latitude}' and longitude '{longitude}' with set radius '{radius}'.\"\n",
    "    )\n",
    "\n",
    "    if not -90 < latitude < 90 and not -180 < longitude < 180:\n",
    "        error_message = (\n",
    "            \"Programm works with `EPSG:25832`. Looks like provided input data is in\"\n",
    "            \"Geographic CRS (`EPSG:4326`). If it's not the case, ignore the warning!\"\n",
    "        )\n",
    "        log.error(error_message)\n",
    "        raise ValueError(error_message)\n",
    "\n",
    "    if radius < 0 or radius > 100:\n",
    "        log.warning(\n",
    "            f\"Radius expected to be from 0 meters till 100 meters. Received {radius} meters.\"\n",
    "        )\n",
    "\n",
    "\n",
    "def get_paths_of_required_images(\n",
    "    latitude: int, longitude: int, radius: float = 100\n",
    ") -> pathlib.Path:\n",
    "    \"\"\"Return paths of required images, that have part of final image.\"\"\"\n",
    "    ...\n",
    "\n",
    "\n",
    "def get_image(latitude: float, longitude: float, radius: float = 100) -> Image.Image:\n",
    "    \"\"\"Generate 256x256 pixels Image on input latitude, longitude with selected radious.\n",
    "\n",
    "    - 'latitude' and 'longitude' must be in 'EPSG:4326' EPSG:4326.\n",
    "    - 'radius' value expected to be '0' till '100' meters.\n",
    "\n",
    "    \"\"\"\n",
    "    validate_input(latitude=latitude, longitude=longitude, radius=radius)\n",
    "\n",
    "    log.info(\n",
    "        \"Converting latitude and longitude from 'EPSG:4326' to 'EPSG:25832' format.\"\n",
    "    )\n",
    "    x_meters, y_meters = wgs84_to_utm32.transform(latitude, longitude)\n",
    "    log.info(f\"x_meters: {x_meters}, y_meters: {y_meters}\")\n",
    "\n",
    "    # Final image edge coordinates\n",
    "    left = x_meters - radius\n",
    "    bottom = y_meters + radius\n",
    "    right = x_meters + radius\n",
    "    top = y_meters - radius\n",
    "\n",
    "    with rasterio.open(image_path) as src:\n",
    "        window = from_bounds(left, bottom, right, top, transform=src.transform)\n",
    "\n",
    "        # Prepare image to show\n",
    "        partial_rgb = src.read([1, 2, 3], window=window)\n",
    "        partial_rgb = np.transpose(partial_rgb, (1, 2, 0))\n",
    "        partial_rgb = np.clip(partial_rgb, 0, 255).astype(np.uint8)\n",
    "        pil_img = Image.fromarray(partial_rgb, mode=\"RGB\")\n",
    "        pil_img_256 = pil_img.resize((256, 256), resample=Image.BILINEAR)\n",
    "\n",
    "        # Plot the data\n",
    "        plt.figure(figsize=(5, 5))\n",
    "        plt.imshow(pil_img_256)\n",
    "        plt.title(\"256x256 Geospatial Data Visualization\")\n",
    "        plt.axis(\"off\")\n",
    "        plt.show()"
   ]
  },
  {
   "cell_type": "code",
   "execution_count": null,
   "metadata": {},
   "outputs": [
    {
     "name": "stderr",
     "output_type": "stream",
     "text": [
      "[2025-01-12 15:08:27,914] [INFO] Incoming latitude '51.962291' and longitude '7.626426' with set radius '100'.\n",
      "[2025-01-12 15:08:27,915] [INFO] Converting latitude and longitude from 'EPSG:4326' to 'EPSG:25832' format.\n",
      "[2025-01-12 15:08:27,916] [INFO] x_meters: 5737501.056387628, y_meters: 1149370.1175921818\n"
     ]
    },
    {
     "ename": "WindowError",
     "evalue": "Bounds and transform are inconsistent",
     "output_type": "error",
     "traceback": [
      "\u001b[0;31m---------------------------------------------------------------------------\u001b[0m\n",
      "\u001b[0;31mWindowError\u001b[0m                               Traceback (most recent call last)\n",
      "Cell \u001b[0;32mIn[29], line 1\u001b[0m\n",
      "\u001b[0;32m----> 1\u001b[0m \u001b[43mget_image\u001b[49m\u001b[43m(\u001b[49m\u001b[38;5;241;43m51.962291\u001b[39;49m\u001b[43m,\u001b[49m\u001b[43m \u001b[49m\u001b[38;5;241;43m7.626426\u001b[39;49m\u001b[43m,\u001b[49m\u001b[43m \u001b[49m\u001b[38;5;241;43m100\u001b[39;49m\u001b[43m)\u001b[49m\n",
      "\n",
      "Cell \u001b[0;32mIn[28], line 43\u001b[0m, in \u001b[0;36mget_image\u001b[0;34m(latitude, longitude, radius)\u001b[0m\n",
      "\u001b[1;32m     40\u001b[0m top \u001b[38;5;241m=\u001b[39m y_meters \u001b[38;5;241m-\u001b[39m radius\n",
      "\u001b[1;32m     42\u001b[0m \u001b[38;5;28;01mwith\u001b[39;00m rasterio\u001b[38;5;241m.\u001b[39mopen(image_path) \u001b[38;5;28;01mas\u001b[39;00m src:\n",
      "\u001b[0;32m---> 43\u001b[0m     window \u001b[38;5;241m=\u001b[39m \u001b[43mfrom_bounds\u001b[49m\u001b[43m(\u001b[49m\u001b[43mleft\u001b[49m\u001b[43m,\u001b[49m\u001b[43m \u001b[49m\u001b[43mbottom\u001b[49m\u001b[43m,\u001b[49m\u001b[43m \u001b[49m\u001b[43mright\u001b[49m\u001b[43m,\u001b[49m\u001b[43m \u001b[49m\u001b[43mtop\u001b[49m\u001b[43m,\u001b[49m\u001b[43m \u001b[49m\u001b[43mtransform\u001b[49m\u001b[38;5;241;43m=\u001b[39;49m\u001b[43msrc\u001b[49m\u001b[38;5;241;43m.\u001b[39;49m\u001b[43mtransform\u001b[49m\u001b[43m)\u001b[49m\n",
      "\u001b[1;32m     45\u001b[0m     \u001b[38;5;66;03m# Prepare image to show\u001b[39;00m\n",
      "\u001b[1;32m     46\u001b[0m     partial_rgb \u001b[38;5;241m=\u001b[39m src\u001b[38;5;241m.\u001b[39mread([\u001b[38;5;241m1\u001b[39m, \u001b[38;5;241m2\u001b[39m, \u001b[38;5;241m3\u001b[39m], window\u001b[38;5;241m=\u001b[39mwindow)\n",
      "\n",
      "File \u001b[0;32m~/Library/Caches/pypoetry/virtualenvs/geospatial-data-processing-ovVQaCv9-py3.13/lib/python3.13/site-packages/rasterio/windows.py:324\u001b[0m, in \u001b[0;36mfrom_bounds\u001b[0;34m(left, bottom, right, top, transform, height, width, precision)\u001b[0m\n",
      "\u001b[1;32m    322\u001b[0m     \u001b[38;5;28;01mraise\u001b[39;00m WindowError(\u001b[38;5;124m\"\u001b[39m\u001b[38;5;124mBounds and transform are inconsistent\u001b[39m\u001b[38;5;124m\"\u001b[39m)\n",
      "\u001b[1;32m    323\u001b[0m \u001b[38;5;28;01mif\u001b[39;00m (bottom \u001b[38;5;241m-\u001b[39m top) \u001b[38;5;241m/\u001b[39m transform\u001b[38;5;241m.\u001b[39me \u001b[38;5;241m<\u001b[39m \u001b[38;5;241m0\u001b[39m:\n",
      "\u001b[0;32m--> 324\u001b[0m     \u001b[38;5;28;01mraise\u001b[39;00m WindowError(\u001b[38;5;124m\"\u001b[39m\u001b[38;5;124mBounds and transform are inconsistent\u001b[39m\u001b[38;5;124m\"\u001b[39m)\n",
      "\u001b[1;32m    326\u001b[0m rows, cols \u001b[38;5;241m=\u001b[39m rowcol(\n",
      "\u001b[1;32m    327\u001b[0m     transform,\n",
      "\u001b[1;32m    328\u001b[0m     [left, right, right, left],\n",
      "\u001b[1;32m    329\u001b[0m     [top, top, bottom, bottom],\n",
      "\u001b[1;32m    330\u001b[0m     op\u001b[38;5;241m=\u001b[39m\u001b[38;5;28mfloat\u001b[39m,\n",
      "\u001b[1;32m    331\u001b[0m )\n",
      "\u001b[1;32m    332\u001b[0m row_start, row_stop \u001b[38;5;241m=\u001b[39m \u001b[38;5;28mmin\u001b[39m(rows), \u001b[38;5;28mmax\u001b[39m(rows)\n",
      "\n",
      "\u001b[0;31mWindowError\u001b[0m: Bounds and transform are inconsistent"
     ]
    }
   ],
   "source": [
    "get_image(51.962291, 7.626426, 100)"
   ]
  }
 ],
 "metadata": {
  "language_info": {
   "name": "python"
  }
 },
 "nbformat": 4,
 "nbformat_minor": 2
}
